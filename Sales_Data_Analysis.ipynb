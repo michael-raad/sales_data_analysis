{
 "cells": [
  {
   "cell_type": "markdown",
   "id": "5b90dc6b-785a-462c-bf1c-1d8a661689ca",
   "metadata": {},
   "source": [
    "# Sales Data Analysis and Visualization Project"
   ]
  },
  {
   "cell_type": "markdown",
   "id": "857283ac-6d0f-44ce-8b9f-e11de786f2e5",
   "metadata": {},
   "source": [
    "## Table of Contents\n",
    "1. [Introduction](#Introduction)\n",
    "2. [Data Loading and Inspection](#Data-Loading-and-Inspection)\n",
    "3. [Data Cleaning](#Data-Cleaning)\n",
    "4. [Exploratory Data Analysis (EDA)](#Exploratory-Data-Analysis-(EDA))\n",
    "    - [Sales Over Time](#Sales-Over-Time)\n",
    "    - [Sales By Region](#Sales-By-Region)\n",
    "    - [Sales By Product](#Sales-By-Product)\n",
    "6. [Conclusion](#Conclusion)"
   ]
  },
  {
   "cell_type": "markdown",
   "id": "78d2208b-91f6-4a0d-8bda-05fb7c7e38ac",
   "metadata": {},
   "source": [
    "## Introduction"
   ]
  },
  {
   "cell_type": "markdown",
   "id": "f1570d88-84b6-4db6-869b-fc858d3d44a8",
   "metadata": {},
   "source": [
    "In today's data-driven world, businesses rely heavily on data analysis to make informed decisions and drive growth. The objectives of this project are to inspect, clean, and perform exploratory data analysis (EDA) on sales data in order to gain insights and uncover key trends to motivate business success. The dataset contains information on sales transactions, including date, product, region, quantity, price, and customer information.\n",
    "\n",
    "We will use Pandas for data processing, and Matplotlib + Seaborn for data visualization."
   ]
  },
  {
   "cell_type": "markdown",
   "id": "fd7aaf41-03b3-4c14-815c-61a943162b7c",
   "metadata": {},
   "source": [
    "## Data Loading and Inspection"
   ]
  },
  {
   "cell_type": "code",
   "execution_count": 40,
   "id": "ae63de68-e7f8-412e-b984-1afef106c5d8",
   "metadata": {},
   "outputs": [],
   "source": [
    "# import libraries for data processing and visualization\n",
    "import pandas as pd\n",
    "import matplotlib.pyplot as plt\n",
    "import matplotlib.dates as mdates\n",
    "from matplotlib.ticker import FuncFormatter, ScalarFormatter\n",
    "import seaborn as sns\n",
    "%matplotlib inline"
   ]
  },
  {
   "cell_type": "markdown",
   "id": "5f9c6801-ecbb-4c73-aa14-73f60ae943b4",
   "metadata": {},
   "source": [
    "First, we load the data and extract some basic information"
   ]
  },
  {
   "cell_type": "code",
   "execution_count": 41,
   "id": "5fb4b245-913e-4d66-9295-70e8f68c737e",
   "metadata": {},
   "outputs": [
    {
     "data": {
      "text/html": [
       "<div>\n",
       "<style scoped>\n",
       "    .dataframe tbody tr th:only-of-type {\n",
       "        vertical-align: middle;\n",
       "    }\n",
       "\n",
       "    .dataframe tbody tr th {\n",
       "        vertical-align: top;\n",
       "    }\n",
       "\n",
       "    .dataframe thead th {\n",
       "        text-align: right;\n",
       "    }\n",
       "</style>\n",
       "<table border=\"1\" class=\"dataframe\">\n",
       "  <thead>\n",
       "    <tr style=\"text-align: right;\">\n",
       "      <th></th>\n",
       "      <th>QUANTITYORDERED</th>\n",
       "      <th>PRICEEACH</th>\n",
       "      <th>ORDERLINENUMBER</th>\n",
       "      <th>SALES</th>\n",
       "      <th>ORDERDATE</th>\n",
       "      <th>STATUS</th>\n",
       "      <th>QTR_ID</th>\n",
       "      <th>MONTH_ID</th>\n",
       "      <th>YEAR_ID</th>\n",
       "      <th>PRODUCTLINE</th>\n",
       "      <th>...</th>\n",
       "      <th>ADDRESSLINE1</th>\n",
       "      <th>ADDRESSLINE2</th>\n",
       "      <th>CITY</th>\n",
       "      <th>STATE</th>\n",
       "      <th>POSTALCODE</th>\n",
       "      <th>COUNTRY</th>\n",
       "      <th>TERRITORY</th>\n",
       "      <th>CONTACTLASTNAME</th>\n",
       "      <th>CONTACTFIRSTNAME</th>\n",
       "      <th>DEALSIZE</th>\n",
       "    </tr>\n",
       "    <tr>\n",
       "      <th>ORDERNUMBER</th>\n",
       "      <th></th>\n",
       "      <th></th>\n",
       "      <th></th>\n",
       "      <th></th>\n",
       "      <th></th>\n",
       "      <th></th>\n",
       "      <th></th>\n",
       "      <th></th>\n",
       "      <th></th>\n",
       "      <th></th>\n",
       "      <th></th>\n",
       "      <th></th>\n",
       "      <th></th>\n",
       "      <th></th>\n",
       "      <th></th>\n",
       "      <th></th>\n",
       "      <th></th>\n",
       "      <th></th>\n",
       "      <th></th>\n",
       "      <th></th>\n",
       "      <th></th>\n",
       "    </tr>\n",
       "  </thead>\n",
       "  <tbody>\n",
       "    <tr>\n",
       "      <th>10107</th>\n",
       "      <td>30</td>\n",
       "      <td>95.70</td>\n",
       "      <td>2</td>\n",
       "      <td>2871.00</td>\n",
       "      <td>2/24/2003 0:00</td>\n",
       "      <td>Shipped</td>\n",
       "      <td>1</td>\n",
       "      <td>2</td>\n",
       "      <td>2003</td>\n",
       "      <td>Motorcycles</td>\n",
       "      <td>...</td>\n",
       "      <td>897 Long Airport Avenue</td>\n",
       "      <td>NaN</td>\n",
       "      <td>NYC</td>\n",
       "      <td>NY</td>\n",
       "      <td>10022</td>\n",
       "      <td>USA</td>\n",
       "      <td>NaN</td>\n",
       "      <td>Yu</td>\n",
       "      <td>Kwai</td>\n",
       "      <td>Small</td>\n",
       "    </tr>\n",
       "    <tr>\n",
       "      <th>10121</th>\n",
       "      <td>34</td>\n",
       "      <td>81.35</td>\n",
       "      <td>5</td>\n",
       "      <td>2765.90</td>\n",
       "      <td>5/7/2003 0:00</td>\n",
       "      <td>Shipped</td>\n",
       "      <td>2</td>\n",
       "      <td>5</td>\n",
       "      <td>2003</td>\n",
       "      <td>Motorcycles</td>\n",
       "      <td>...</td>\n",
       "      <td>59 rue de l'Abbaye</td>\n",
       "      <td>NaN</td>\n",
       "      <td>Reims</td>\n",
       "      <td>NaN</td>\n",
       "      <td>51100</td>\n",
       "      <td>France</td>\n",
       "      <td>EMEA</td>\n",
       "      <td>Henriot</td>\n",
       "      <td>Paul</td>\n",
       "      <td>Small</td>\n",
       "    </tr>\n",
       "    <tr>\n",
       "      <th>10134</th>\n",
       "      <td>41</td>\n",
       "      <td>94.74</td>\n",
       "      <td>2</td>\n",
       "      <td>3884.34</td>\n",
       "      <td>7/1/2003 0:00</td>\n",
       "      <td>Shipped</td>\n",
       "      <td>3</td>\n",
       "      <td>7</td>\n",
       "      <td>2003</td>\n",
       "      <td>Motorcycles</td>\n",
       "      <td>...</td>\n",
       "      <td>27 rue du Colonel Pierre Avia</td>\n",
       "      <td>NaN</td>\n",
       "      <td>Paris</td>\n",
       "      <td>NaN</td>\n",
       "      <td>75508</td>\n",
       "      <td>France</td>\n",
       "      <td>EMEA</td>\n",
       "      <td>Da Cunha</td>\n",
       "      <td>Daniel</td>\n",
       "      <td>Medium</td>\n",
       "    </tr>\n",
       "    <tr>\n",
       "      <th>10145</th>\n",
       "      <td>45</td>\n",
       "      <td>83.26</td>\n",
       "      <td>6</td>\n",
       "      <td>3746.70</td>\n",
       "      <td>8/25/2003 0:00</td>\n",
       "      <td>Shipped</td>\n",
       "      <td>3</td>\n",
       "      <td>8</td>\n",
       "      <td>2003</td>\n",
       "      <td>Motorcycles</td>\n",
       "      <td>...</td>\n",
       "      <td>78934 Hillside Dr.</td>\n",
       "      <td>NaN</td>\n",
       "      <td>Pasadena</td>\n",
       "      <td>CA</td>\n",
       "      <td>90003</td>\n",
       "      <td>USA</td>\n",
       "      <td>NaN</td>\n",
       "      <td>Young</td>\n",
       "      <td>Julie</td>\n",
       "      <td>Medium</td>\n",
       "    </tr>\n",
       "    <tr>\n",
       "      <th>10159</th>\n",
       "      <td>49</td>\n",
       "      <td>100.00</td>\n",
       "      <td>14</td>\n",
       "      <td>5205.27</td>\n",
       "      <td>10/10/2003 0:00</td>\n",
       "      <td>Shipped</td>\n",
       "      <td>4</td>\n",
       "      <td>10</td>\n",
       "      <td>2003</td>\n",
       "      <td>Motorcycles</td>\n",
       "      <td>...</td>\n",
       "      <td>7734 Strong St.</td>\n",
       "      <td>NaN</td>\n",
       "      <td>San Francisco</td>\n",
       "      <td>CA</td>\n",
       "      <td>NaN</td>\n",
       "      <td>USA</td>\n",
       "      <td>NaN</td>\n",
       "      <td>Brown</td>\n",
       "      <td>Julie</td>\n",
       "      <td>Medium</td>\n",
       "    </tr>\n",
       "  </tbody>\n",
       "</table>\n",
       "<p>5 rows × 24 columns</p>\n",
       "</div>"
      ],
      "text/plain": [
       "             QUANTITYORDERED  PRICEEACH  ORDERLINENUMBER    SALES  \\\n",
       "ORDERNUMBER                                                         \n",
       "10107                     30      95.70                2  2871.00   \n",
       "10121                     34      81.35                5  2765.90   \n",
       "10134                     41      94.74                2  3884.34   \n",
       "10145                     45      83.26                6  3746.70   \n",
       "10159                     49     100.00               14  5205.27   \n",
       "\n",
       "                   ORDERDATE   STATUS  QTR_ID  MONTH_ID  YEAR_ID  PRODUCTLINE  \\\n",
       "ORDERNUMBER                                                                     \n",
       "10107         2/24/2003 0:00  Shipped       1         2     2003  Motorcycles   \n",
       "10121          5/7/2003 0:00  Shipped       2         5     2003  Motorcycles   \n",
       "10134          7/1/2003 0:00  Shipped       3         7     2003  Motorcycles   \n",
       "10145         8/25/2003 0:00  Shipped       3         8     2003  Motorcycles   \n",
       "10159        10/10/2003 0:00  Shipped       4        10     2003  Motorcycles   \n",
       "\n",
       "             ...                   ADDRESSLINE1 ADDRESSLINE2           CITY  \\\n",
       "ORDERNUMBER  ...                                                              \n",
       "10107        ...        897 Long Airport Avenue          NaN            NYC   \n",
       "10121        ...             59 rue de l'Abbaye          NaN          Reims   \n",
       "10134        ...  27 rue du Colonel Pierre Avia          NaN          Paris   \n",
       "10145        ...             78934 Hillside Dr.          NaN       Pasadena   \n",
       "10159        ...                7734 Strong St.          NaN  San Francisco   \n",
       "\n",
       "            STATE POSTALCODE COUNTRY TERRITORY CONTACTLASTNAME  \\\n",
       "ORDERNUMBER                                                      \n",
       "10107          NY      10022     USA       NaN              Yu   \n",
       "10121         NaN      51100  France      EMEA         Henriot   \n",
       "10134         NaN      75508  France      EMEA        Da Cunha   \n",
       "10145          CA      90003     USA       NaN           Young   \n",
       "10159          CA        NaN     USA       NaN           Brown   \n",
       "\n",
       "            CONTACTFIRSTNAME DEALSIZE  \n",
       "ORDERNUMBER                            \n",
       "10107                   Kwai    Small  \n",
       "10121                   Paul    Small  \n",
       "10134                 Daniel   Medium  \n",
       "10145                  Julie   Medium  \n",
       "10159                  Julie   Medium  \n",
       "\n",
       "[5 rows x 24 columns]"
      ]
     },
     "execution_count": 41,
     "metadata": {},
     "output_type": "execute_result"
    }
   ],
   "source": [
    "sales_data = pd.read_csv('sales_data_sample.csv', index_col='ORDERNUMBER')\n",
    "\n",
    "# First 5 rows\n",
    "sales_data.head()"
   ]
  },
  {
   "cell_type": "code",
   "execution_count": 42,
   "id": "f0f3798f-23ee-4d74-9623-c4f4990df51e",
   "metadata": {},
   "outputs": [
    {
     "data": {
      "text/html": [
       "<div>\n",
       "<style scoped>\n",
       "    .dataframe tbody tr th:only-of-type {\n",
       "        vertical-align: middle;\n",
       "    }\n",
       "\n",
       "    .dataframe tbody tr th {\n",
       "        vertical-align: top;\n",
       "    }\n",
       "\n",
       "    .dataframe thead th {\n",
       "        text-align: right;\n",
       "    }\n",
       "</style>\n",
       "<table border=\"1\" class=\"dataframe\">\n",
       "  <thead>\n",
       "    <tr style=\"text-align: right;\">\n",
       "      <th></th>\n",
       "      <th>QUANTITYORDERED</th>\n",
       "      <th>PRICEEACH</th>\n",
       "      <th>ORDERLINENUMBER</th>\n",
       "      <th>SALES</th>\n",
       "      <th>QTR_ID</th>\n",
       "      <th>MONTH_ID</th>\n",
       "      <th>YEAR_ID</th>\n",
       "      <th>MSRP</th>\n",
       "    </tr>\n",
       "  </thead>\n",
       "  <tbody>\n",
       "    <tr>\n",
       "      <th>count</th>\n",
       "      <td>2823.000000</td>\n",
       "      <td>2823.000000</td>\n",
       "      <td>2823.000000</td>\n",
       "      <td>2823.000000</td>\n",
       "      <td>2823.000000</td>\n",
       "      <td>2823.000000</td>\n",
       "      <td>2823.00000</td>\n",
       "      <td>2823.000000</td>\n",
       "    </tr>\n",
       "    <tr>\n",
       "      <th>mean</th>\n",
       "      <td>35.092809</td>\n",
       "      <td>83.658544</td>\n",
       "      <td>6.466171</td>\n",
       "      <td>3553.889072</td>\n",
       "      <td>2.717676</td>\n",
       "      <td>7.092455</td>\n",
       "      <td>2003.81509</td>\n",
       "      <td>100.715551</td>\n",
       "    </tr>\n",
       "    <tr>\n",
       "      <th>std</th>\n",
       "      <td>9.741443</td>\n",
       "      <td>20.174277</td>\n",
       "      <td>4.225841</td>\n",
       "      <td>1841.865106</td>\n",
       "      <td>1.203878</td>\n",
       "      <td>3.656633</td>\n",
       "      <td>0.69967</td>\n",
       "      <td>40.187912</td>\n",
       "    </tr>\n",
       "    <tr>\n",
       "      <th>min</th>\n",
       "      <td>6.000000</td>\n",
       "      <td>26.880000</td>\n",
       "      <td>1.000000</td>\n",
       "      <td>482.130000</td>\n",
       "      <td>1.000000</td>\n",
       "      <td>1.000000</td>\n",
       "      <td>2003.00000</td>\n",
       "      <td>33.000000</td>\n",
       "    </tr>\n",
       "    <tr>\n",
       "      <th>25%</th>\n",
       "      <td>27.000000</td>\n",
       "      <td>68.860000</td>\n",
       "      <td>3.000000</td>\n",
       "      <td>2203.430000</td>\n",
       "      <td>2.000000</td>\n",
       "      <td>4.000000</td>\n",
       "      <td>2003.00000</td>\n",
       "      <td>68.000000</td>\n",
       "    </tr>\n",
       "    <tr>\n",
       "      <th>50%</th>\n",
       "      <td>35.000000</td>\n",
       "      <td>95.700000</td>\n",
       "      <td>6.000000</td>\n",
       "      <td>3184.800000</td>\n",
       "      <td>3.000000</td>\n",
       "      <td>8.000000</td>\n",
       "      <td>2004.00000</td>\n",
       "      <td>99.000000</td>\n",
       "    </tr>\n",
       "    <tr>\n",
       "      <th>75%</th>\n",
       "      <td>43.000000</td>\n",
       "      <td>100.000000</td>\n",
       "      <td>9.000000</td>\n",
       "      <td>4508.000000</td>\n",
       "      <td>4.000000</td>\n",
       "      <td>11.000000</td>\n",
       "      <td>2004.00000</td>\n",
       "      <td>124.000000</td>\n",
       "    </tr>\n",
       "    <tr>\n",
       "      <th>max</th>\n",
       "      <td>97.000000</td>\n",
       "      <td>100.000000</td>\n",
       "      <td>18.000000</td>\n",
       "      <td>14082.800000</td>\n",
       "      <td>4.000000</td>\n",
       "      <td>12.000000</td>\n",
       "      <td>2005.00000</td>\n",
       "      <td>214.000000</td>\n",
       "    </tr>\n",
       "  </tbody>\n",
       "</table>\n",
       "</div>"
      ],
      "text/plain": [
       "       QUANTITYORDERED    PRICEEACH  ORDERLINENUMBER         SALES  \\\n",
       "count      2823.000000  2823.000000      2823.000000   2823.000000   \n",
       "mean         35.092809    83.658544         6.466171   3553.889072   \n",
       "std           9.741443    20.174277         4.225841   1841.865106   \n",
       "min           6.000000    26.880000         1.000000    482.130000   \n",
       "25%          27.000000    68.860000         3.000000   2203.430000   \n",
       "50%          35.000000    95.700000         6.000000   3184.800000   \n",
       "75%          43.000000   100.000000         9.000000   4508.000000   \n",
       "max          97.000000   100.000000        18.000000  14082.800000   \n",
       "\n",
       "            QTR_ID     MONTH_ID     YEAR_ID         MSRP  \n",
       "count  2823.000000  2823.000000  2823.00000  2823.000000  \n",
       "mean      2.717676     7.092455  2003.81509   100.715551  \n",
       "std       1.203878     3.656633     0.69967    40.187912  \n",
       "min       1.000000     1.000000  2003.00000    33.000000  \n",
       "25%       2.000000     4.000000  2003.00000    68.000000  \n",
       "50%       3.000000     8.000000  2004.00000    99.000000  \n",
       "75%       4.000000    11.000000  2004.00000   124.000000  \n",
       "max       4.000000    12.000000  2005.00000   214.000000  "
      ]
     },
     "execution_count": 42,
     "metadata": {},
     "output_type": "execute_result"
    }
   ],
   "source": [
    "# Describes the data with count, mean, standard deviation, and the \"Big 5\"\n",
    "sales_data.describe()"
   ]
  },
  {
   "cell_type": "code",
   "execution_count": 43,
   "id": "83cb276c-95bc-4b0a-8183-f1c66e45e51e",
   "metadata": {},
   "outputs": [
    {
     "name": "stdout",
     "output_type": "stream",
     "text": [
      "                 Non-Null Count Null Count    dtype\n",
      "QUANTITYORDERED   2823 non-null     0 null    int64\n",
      "PRICEEACH         2823 non-null     0 null  float64\n",
      "ORDERLINENUMBER   2823 non-null     0 null    int64\n",
      "SALES             2823 non-null     0 null  float64\n",
      "ORDERDATE         2823 non-null     0 null   object\n",
      "STATUS            2823 non-null     0 null   object\n",
      "QTR_ID            2823 non-null     0 null    int64\n",
      "MONTH_ID          2823 non-null     0 null    int64\n",
      "YEAR_ID           2823 non-null     0 null    int64\n",
      "PRODUCTLINE       2823 non-null     0 null   object\n",
      "MSRP              2823 non-null     0 null    int64\n",
      "PRODUCTCODE       2823 non-null     0 null   object\n",
      "CUSTOMERNAME      2823 non-null     0 null   object\n",
      "PHONE             2823 non-null     0 null   object\n",
      "ADDRESSLINE1      2823 non-null     0 null   object\n",
      "ADDRESSLINE2       302 non-null  2521 null   object\n",
      "CITY              2823 non-null     0 null   object\n",
      "STATE             1337 non-null  1486 null   object\n",
      "POSTALCODE        2747 non-null    76 null   object\n",
      "COUNTRY           2823 non-null     0 null   object\n",
      "TERRITORY         1749 non-null  1074 null   object\n",
      "CONTACTLASTNAME   2823 non-null     0 null   object\n",
      "CONTACTFIRSTNAME  2823 non-null     0 null   object\n",
      "DEALSIZE          2823 non-null     0 null   object\n"
     ]
    }
   ],
   "source": [
    "null_counts = sales_data.isnull().sum().astype(str) + ' null'\n",
    "non_null_counts = sales_data.notnull().sum().astype(str) + ' non-null'\n",
    "dtypes = sales_data.dtypes\n",
    "\n",
    "# Contains number of null and non-null entries as well as the type of the entry for each column\n",
    "sales_info = pd.DataFrame({'Non-Null Count': non_null_counts, 'Null Count': null_counts, 'dtype': dtypes,})\n",
    "print(sales_info)"
   ]
  },
  {
   "cell_type": "markdown",
   "id": "c935d04e-9101-478a-8326-4fcb2763996f",
   "metadata": {},
   "source": [
    "## Data Cleaning"
   ]
  },
  {
   "cell_type": "markdown",
   "id": "297bf39f-7caa-41d9-a070-af226b7df014",
   "metadata": {},
   "source": [
    "From above, we see that ADDRESSLINE2, STATE, and TERRITORY columns have null rows. We would lose way too much valuable information if we dropped these rows. Let's fill in the missing values instead:"
   ]
  },
  {
   "cell_type": "code",
   "execution_count": 44,
   "id": "6ceea582-823d-45c0-bb48-69312e159846",
   "metadata": {},
   "outputs": [],
   "source": [
    "sales_data.fillna({'ADDRESSLINE2': 'No Address Line'}, inplace=True)\n",
    "sales_data.fillna({'STATE': 'No State'}, inplace=True)\n",
    "sales_data.fillna({'TERRITORY':'No Territory'}, inplace=True)"
   ]
  },
  {
   "cell_type": "markdown",
   "id": "4375c48e-3b3b-4a05-9f50-8bd4ee9af4a8",
   "metadata": {},
   "source": [
    "Now let's check for duplicate rows"
   ]
  },
  {
   "cell_type": "code",
   "execution_count": 45,
   "id": "4ca8306b-93d1-4111-83b9-6cb076cfad81",
   "metadata": {},
   "outputs": [
    {
     "name": "stdout",
     "output_type": "stream",
     "text": [
      "Number of duplicate rows is 0\n"
     ]
    }
   ],
   "source": [
    "duplicate_rows = sales_data.duplicated().sum()\n",
    "print(f\"Number of duplicate rows is {duplicate_rows}\")"
   ]
  },
  {
   "cell_type": "markdown",
   "id": "fe271e96-302c-41db-a1b2-2f5b6a5218d9",
   "metadata": {},
   "source": [
    "Next let's convert the ORDERDATE datatype for additional date-related features "
   ]
  },
  {
   "cell_type": "code",
   "execution_count": 46,
   "id": "0c46696e-b673-4ae1-b8d8-6795d4e60027",
   "metadata": {},
   "outputs": [],
   "source": [
    "sales_data['ORDERDATE'] = pd.to_datetime(sales_data['ORDERDATE'])"
   ]
  },
  {
   "cell_type": "markdown",
   "id": "e093dc0c-055b-4195-ad54-f09a98c190ac",
   "metadata": {},
   "source": [
    "Finally, let's visualize outliers using boxplots"
   ]
  },
  {
   "cell_type": "code",
   "execution_count": 65,
   "id": "e9752ab8-e1cb-458c-8c29-517ddea7b494",
   "metadata": {},
   "outputs": [
    {
     "data": {
      "image/png": "[encoded data removed]",
      "text/plain": [
       "<Figure size 1152x720 with 1 Axes>"
      ]
     },
     "metadata": {
      "needs_background": "light"
     },
     "output_type": "display_data"
    }
   ],
   "source": [
    "# Visualize outliers for Sales\n",
    "plt.figure(figsize=(16, 10))\n",
    "sns.boxplot(data=sales_data[['SALES']], color=\"green\")\n",
    "plt.title('Boxplot of Sales')\n",
    "plt.show()"
   ]
  },
  {
   "cell_type": "code",
   "execution_count": 56,
   "id": "7ddbd65e-518e-41a2-9612-0e1c98879d7b",
   "metadata": {},
   "outputs": [
    {
     "data": {
      "image/png": "[encoded data removed]",
      "text/plain": [
       "<Figure size 1152x720 with 1 Axes>"
      ]
     },
     "metadata": {
      "needs_background": "light"
     },
     "output_type": "display_data"
    }
   ],
   "source": [
    "# Visualize outliers for Quantity Ordered and Price Each\n",
    "plt.figure(figsize=(16, 10))\n",
    "sns.boxplot(data=sales_data[['QUANTITYORDERED', 'PRICEEACH']])\n",
    "plt.title('Boxplot of Quantity Ordered and Price Each')\n",
    "plt.show()"
   ]
  },
  {
   "cell_type": "markdown",
   "id": "1fb9a8b3-88ea-4273-8051-3b2c95c87715",
   "metadata": {},
   "source": [
    "All outliers in this dataset seem to be true outliers (i.e. are not a result of measurement errors, data entry errors, or poor sampling). For this reason, we will not remove any outliers.\n",
    "\n",
    "From just the box plots we can extract some information about the shape of the distributions of each of these variates. For example, QUANTITYORDERED is fairly symmetric, PRICEEACH has a negative skew (longer left tail), and SALES has a positive skew (longer right tail). We can makes these conclusions by observing the location of the median line relative to the IQR"
   ]
  },
  {
   "cell_type": "markdown",
   "id": "f796b119-4e16-45f5-bf8a-38e167846260",
   "metadata": {},
   "source": [
    "# Exploratory Data Analysis (EDA)"
   ]
  },
  {
   "cell_type": "markdown",
   "id": "8d80022e-0fd1-493a-a1f5-85e122559bb0",
   "metadata": {},
   "source": [
    "## Sales Over Time"
   ]
  },
  {
   "cell_type": "markdown",
   "id": "efec79cb-4fd2-4a7b-a742-2f601fe8a504",
   "metadata": {},
   "source": [
    "First we look at the sales over the course of the entire time period"
   ]
  },
  {
   "cell_type": "code",
   "execution_count": 69,
   "id": "40842a30-2988-466c-b059-b8d30c520243",
   "metadata": {},
   "outputs": [
    {
     "data": {
      "text/plain": [
       "<Axes: title={'center': 'Sales Over Time'}, xlabel='Date', ylabel='Total Sales (Millions)'>"
      ]
     },
     "execution_count": 69,
     "metadata": {},
     "output_type": "execute_result"
    },
    {
     "data": {
      "image/png": "[encoded data removed]",
      "text/plain": [
       "<Figure size 1152x720 with 1 Axes>"
      ]
     },
     "metadata": {
      "needs_background": "light"
     },
     "output_type": "display_data"
    }
   ],
   "source": [
    "sales_over_time = sales_data.resample('ME',on='ORDERDATE')[['SALES']].sum()\n",
    "sales_over_time.plot(title=\"Sales Over Time\", xlabel=\"Date\", ylabel=\"Total Sales (Millions)\", figsize=(16, 10))"
   ]
  },
  {
   "cell_type": "markdown",
   "id": "b05a5d5b-9094-435b-aaf4-7883cce1146f",
   "metadata": {},
   "source": [
    "Notice how there are spikes in sales from September-December. Let's plot information for monthly sales to better visualize the seasonal trends. Sicne there is incomplete data from 2005, we will exclude 2005 from our analysis."
   ]
  },
  {
   "cell_type": "code",
   "execution_count": 70,
   "id": "033a3855-67b9-46c2-b97e-2e2b5b372975",
   "metadata": {},
   "outputs": [
    {
     "data": {
      "image/png": "[encoded data removed]",
      "text/plain": [
       "<Figure size 1152x720 with 1 Axes>"
      ]
     },
     "metadata": {
      "needs_background": "light"
     },
     "output_type": "display_data"
    }
   ],
   "source": [
    "date_filtered_data = sales_data[sales_data['YEAR_ID'] < 2005] # data from 2003 and 2004\n",
    "total_monthly_sales = date_filtered_data.groupby(['YEAR_ID', 'MONTH_ID', 'QTR_ID'])['SALES'].sum().reset_index()\n",
    "average_monthly_sales = total_monthly_sales.groupby(['MONTH_ID', 'QTR_ID'])['SALES'].mean().reset_index()\n",
    "\n",
    "quarter_labels = {\n",
    "    1: 'Q1',\n",
    "    2: 'Q2',\n",
    "    3: 'Q3',\n",
    "    4: 'Q4'\n",
    "}\n",
    "\n",
    "# We map the quarter ids to Q1, Q2, Q3, and Q4 for readability in the legend\n",
    "average_monthly_sales['QTR_ID'] = average_monthly_sales['QTR_ID'].map(quarter_labels)\n",
    "\n",
    "plt.figure(figsize=(16, 10))\n",
    "sns.barplot(x='MONTH_ID', y='SALES', data=average_monthly_sales, palette='light:purple', hue='QTR_ID')\n",
    "\n",
    "plt.title('Average Monthly Sales (2003-2004)')\n",
    "plt.xlabel('Month')\n",
    "plt.ylabel('Average Sales (Millions)')\n",
    "plt.xticks(ticks=range(12), labels=['Jan', 'Feb', 'Mar', 'Apr', 'May', 'Jun', 'Jul', 'Aug', 'Sep', 'Oct', 'Nov', 'Dec'])\n",
    "plt.legend(title=\"Quarter\", loc=\"upper left\")\n",
    "plt.show()"
   ]
  },
  {
   "cell_type": "markdown",
   "id": "dcf0bc64",
   "metadata": {},
   "source": [
    "This makes it clear that sales revenue is at its peak during the fourth quarter. "
   ]
  },
  {
   "cell_type": "markdown",
   "id": "37395fb3",
   "metadata": {},
   "source": [
    "## Sales By Region"
   ]
  },
  {
   "cell_type": "markdown",
   "id": "17309536",
   "metadata": {},
   "source": [
    "First, let's look at sales by country, sorted from lowset total sales to greatest total sales."
   ]
  },
  {
   "cell_type": "code",
   "execution_count": 51,
   "id": "2f06f45e",
   "metadata": {},
   "outputs": [
    {
     "data": {
      "image/png": "[encoded data removed]",
      "text/plain": [
       "<Figure size 1440x720 with 1 Axes>"
      ]
     },
     "metadata": {
      "needs_background": "light"
     },
     "output_type": "display_data"
    }
   ],
   "source": [
    "sales_by_country_sorted = sales_data.groupby(['COUNTRY'])['SALES'].sum().reset_index().sort_values(by='SALES')\n",
    "\n",
    "plt.figure(figsize=(20, 10))\n",
    "sns.barplot(x='COUNTRY', y='SALES', data=sales_by_country_sorted)\n",
    "plt.title('Total Sales By Country')\n",
    "plt.xlabel('Country')\n",
    "plt.ylabel('Total Sales (Millions)')\n",
    "plt.show()"
   ]
  },
  {
   "cell_type": "markdown",
   "id": "62b323e6",
   "metadata": {},
   "source": [
    "Most sales are made by people in the US. Let's explore this further by determining total sales by state, colour coded by country. It is worth noting that only 1337 out of 2823 entries were given a STATE value. We can still obtain useful information despite this, but it`s important to consider that the data is potentially misleading (for example, it is possible that all sales from the US have a STATE value, while all sales from some other country may not have a STATE value)."
   ]
  },
  {
   "cell_type": "code",
   "execution_count": 52,
   "id": "745e944b",
   "metadata": {},
   "outputs": [
    {
     "data": {
      "image/png": "[encoded data removed]",
      "text/plain": [
       "<Figure size 1440x720 with 1 Axes>"
      ]
     },
     "metadata": {
      "needs_background": "light"
     },
     "output_type": "display_data"
    }
   ],
   "source": [
    "state_filtered_data = sales_data[sales_data['STATE'] != \"No State\"]\n",
    "sales_by_state_sorted = state_filtered_data.groupby(['STATE', 'COUNTRY'])['SALES'].sum().reset_index().sort_values(by=['COUNTRY', 'SALES'])\n",
    "\n",
    "plt.figure(figsize=(20, 10))\n",
    "sns.barplot(x='STATE', y='SALES', data=sales_by_state_sorted, palette='light:green', hue='COUNTRY')\n",
    "plt.title('Total Sales By State')\n",
    "plt.xlabel('State')\n",
    "plt.ylabel('Total Sales (Millions)')\n",
    "plt.show()"
   ]
  },
  {
   "cell_type": "markdown",
   "id": "8e4df249",
   "metadata": {},
   "source": [
    "## Sales by Product"
   ]
  }
 ],
 "metadata": {
  "kernelspec": {
   "display_name": "Python 3 (ipykernel)",
   "language": "python",
   "name": "python3"
  },
  "language_info": {
   "codemirror_mode": {
    "name": "ipython",
    "version": 3
   },
   "file_extension": ".py",
   "mimetype": "text/x-python",
   "name": "python",
   "nbconvert_exporter": "python",
   "pygments_lexer": "ipython3",
   "version": "3.10.12"
  }
 },
 "nbformat": 4,
 "nbformat_minor": 5
}
